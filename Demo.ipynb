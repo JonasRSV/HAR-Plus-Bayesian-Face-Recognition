{
 "cells": [
  {
   "cell_type": "markdown",
   "metadata": {},
   "source": [
    "## Beautiful Demo\n",
    "\n",
    "# Hello"
   ]
  },
  {
   "cell_type": "code",
   "execution_count": 1,
   "metadata": {},
   "outputs": [
    {
     "name": "stdout",
     "output_type": "stream",
     "text": [
      "reading csv: 2.947767972946167\n",
      "formatting to numpy matrices: 4.278903007507324\n",
      "picking random data: 0.2211160659790039\n",
      "time to preprocess image: 0.017686843872070312\n"
     ]
    },
    {
     "data": {
      "text/plain": [
       "<matplotlib.figure.Figure at 0x10bfdf9e8>"
      ]
     },
     "metadata": {},
     "output_type": "display_data"
    }
   ],
   "source": [
    "from matplotlib import pyplot as plt\n",
    "from read_data import training_validation\n",
    "from processing import integral_image\n",
    "from time import time\n",
    "from random import choice\n",
    "\n",
    "training, validation = training_validation()\n",
    "\n",
    "sample_image = choice(training)\n",
    "\n",
    "tp_ii = time()\n",
    "\n",
    "ii = integral_image(sample_image)\n",
    "\n",
    "print(\"time to preprocess image: {}\".format(time() - tp_ii))\n",
    "\n",
    "\n",
    "plt.imshow(sample_image)\n",
    "plt.show()\n",
    "\n"
   ]
  },
  {
   "cell_type": "markdown",
   "metadata": {},
   "source": [
    "## Testing Naive Bayes "
   ]
  },
  {
   "cell_type": "code",
   "execution_count": 2,
   "metadata": {},
   "outputs": [
    {
     "name": "stdout",
     "output_type": "stream",
     "text": [
      "[[[ 3990.9131       0.           0.       ...,     0.           0.           0.      ]\n",
      "  [    0.        4186.603584     0.       ...,     0.           0.           0.      ]\n",
      "  [    0.           0.        4452.681264 ...,     0.           0.           0.      ]\n",
      "  ..., \n",
      "  [    0.           0.           0.       ...,  3251.208716     0.           0.      ]\n",
      "  [    0.           0.           0.       ...,     0.        3224.776896\n",
      "       0.      ]\n",
      "  [    0.           0.           0.       ...,     0.           0.\n",
      "    3099.335404]]]\n",
      "[[ 161.57   158.304  156.644 ...,   90.222   92.152   93.814]]\n",
      "[ 1.]\n",
      "-1925.70851678\n",
      "0\n"
     ]
    }
   ],
   "source": [
    "from naive_bayes import naive_bayes\n",
    "from numpy import zeros, arange\n",
    "labels = zeros(len(training))\n",
    "classifier = naive_bayes()\n",
    "\n",
    "(n_of_imagest, widtht, heigtht) = training.shape\n",
    "into_linear_featurest = training.reshape(n_of_imagest, widtht * heigtht)\n",
    "\n",
    "classifier.train(into_linear_featurest, labels)\n",
    "\n",
    "(n_of_imagesv, widthv, heightv) = validation.shape\n",
    "into_linear_featuresv = validation.reshape(n_of_imagesv, widthv * heightv)\n",
    "\n",
    "print(classifier.predict(into_linear_featuresv[0]))"
   ]
  },
  {
   "cell_type": "code",
   "execution_count": null,
   "metadata": {},
   "outputs": [],
   "source": []
  }
 ],
 "metadata": {
  "kernelspec": {
   "display_name": "Python 3",
   "language": "python",
   "name": "python3"
  },
  "language_info": {
   "codemirror_mode": {
    "name": "ipython",
    "version": 3
   },
   "file_extension": ".py",
   "mimetype": "text/x-python",
   "name": "python",
   "nbconvert_exporter": "python",
   "pygments_lexer": "ipython3",
   "version": "3.6.4"
  }
 },
 "nbformat": 4,
 "nbformat_minor": 2
}
