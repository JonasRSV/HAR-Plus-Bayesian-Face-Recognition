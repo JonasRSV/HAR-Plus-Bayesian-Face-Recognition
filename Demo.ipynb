{
 "cells": [
  {
   "cell_type": "markdown",
   "metadata": {},
   "source": [
    "## Beautiful Demo\n",
    "\n",
    "Loads training data and shows an example training face"
   ]
  },
  {
   "cell_type": "code",
   "execution_count": 1,
   "metadata": {},
   "outputs": [
    {
     "name": "stdout",
     "output_type": "stream",
     "text": [
      "reading csv: 6.384876012802124\n",
      "formatting to numpy matrices: 6.332572937011719\n",
      "picking random data: 0.013900041580200195\n",
      "Formatting data: 2.5987625122070312e-05\n"
     ]
    },
    {
     "data": {
      "text/plain": [
       "<matplotlib.figure.Figure at 0x102bf31d0>"
      ]
     },
     "metadata": {},
     "output_type": "display_data"
    }
   ],
   "source": [
    "from matplotlib import pyplot as plt\n",
    "from read_data import training_validation\n",
    "\n",
    "from time import time\n",
    "from random import choice\n",
    "\n",
    "(training_images, training_labels), (test_images, test_labels) = training_validation()\n",
    "\n",
    "sample_image_positive = choice(training_images)\n",
    "sample_image_negative = choice(test_images)\n",
    "\n",
    "fig, (ax1, ax2) = plt.subplots(1, 2)\n",
    "\n",
    "ax1.imshow(sample_image_positive)\n",
    "ax2.imshow(sample_image_negative)\n",
    "plt.show()\n",
    "\n"
   ]
  },
  {
   "cell_type": "markdown",
   "metadata": {},
   "source": [
    "## Example of feature selection used"
   ]
  },
  {
   "cell_type": "code",
   "execution_count": 2,
   "metadata": {},
   "outputs": [
    {
     "name": "stdout",
     "output_type": "stream",
     "text": [
      "-0.0003734353208\n",
      "-0.144102583487\n",
      "0.0147109250307\n",
      "4.84778650519\n",
      "4.77072208608\n"
     ]
    },
    {
     "data": {
      "image/png": "[encoded data removed]",
      "text/plain": [
       "<matplotlib.figure.Figure at 0x102235320>"
      ]
     },
     "metadata": {},
     "output_type": "display_data"
    }
   ],
   "source": [
    "from features import *\n",
    "from processing import IntegralImage\n",
    "\n",
    "fsize = FeatureSize(0.2, 0.2, 0.4, 0.4)\n",
    "ii = IntegralImage(sample_image_positive)\n",
    "ii.process()\n",
    "fig, (ax1, ax2, ax3, ax4, ax5) = plt.subplots(1, 5)\n",
    "\n",
    "f = Feature(fsize, A)\n",
    "f.print_feature(ii, ax1)\n",
    "print(f.calculate(ii))\n",
    "\n",
    "f = Feature(fsize, B1)\n",
    "f.print_feature(ii, ax2)\n",
    "print(f.calculate(ii))\n",
    "\n",
    "f = Feature(fsize, B2)\n",
    "f.print_feature(ii, ax3)\n",
    "print(f.calculate(ii))\n",
    "\n",
    "f = Feature(fsize, C1)\n",
    "f.print_feature(ii, ax4)\n",
    "print(f.calculate(ii))\n",
    "\n",
    "f = Feature(fsize, C2)\n",
    "f.print_feature(ii, ax5)\n",
    "print(f.calculate(ii))\n",
    "\n",
    "\n",
    "plt.show()"
   ]
  },
  {
   "cell_type": "markdown",
   "metadata": {},
   "source": [
    "## Example of Feature Generation"
   ]
  },
  {
   "cell_type": "code",
   "execution_count": 3,
   "metadata": {},
   "outputs": [
    {
     "name": "stdout",
     "output_type": "stream",
     "text": [
      "225\n"
     ]
    }
   ],
   "source": [
    "from features import *\n",
    "count = 0\n",
    "for sz in generate_all_sizes():\n",
    "    count += 1\n",
    "print(count)"
   ]
  },
  {
   "cell_type": "markdown",
   "metadata": {},
   "source": [
    "## Format training and test data\n",
    "\n",
    "The format is adapted for the special ada boosted version, to extract features, therefore to train the normal bayes\n",
    "we have to transpose the data to get image x features instead of features x images."
   ]
  },
  {
   "cell_type": "code",
   "execution_count": null,
   "metadata": {},
   "outputs": [
    {
     "name": "stdout",
     "output_type": "stream",
     "text": [
      "Stage 1e all features: 0.002399921417236328\n",
      "Processing all integral images: 139.42981791496277\n"
     ]
    }
   ],
   "source": [
    "from read_data import get_trainable_data\n",
    "training, test, IItraining, IItest, all_features, outTrain, outTest = get_trainable_data(training_images, test_images)"
   ]
  },
  {
   "cell_type": "markdown",
   "metadata": {},
   "source": [
    "## Display of Integral Image"
   ]
  },
  {
   "cell_type": "code",
   "execution_count": null,
   "metadata": {},
   "outputs": [],
   "source": [
    "\n",
    "fig, (ax1, ax2, ax3) = plt.subplots(1, 3)\n",
    "ax1.imshow(IItraining[0].ii)\n",
    "ax2.imshow(IItraining[200].ii)\n",
    "ax3.imshow(IItraining[400].ii)\n",
    "\n",
    "plt.show()\n"
   ]
  },
  {
   "cell_type": "markdown",
   "metadata": {},
   "source": [
    "## Testing Naive Bayes \n",
    "\n",
    "Naive bayes based on Normal distribution"
   ]
  },
  {
   "cell_type": "code",
   "execution_count": null,
   "metadata": {
    "scrolled": true
   },
   "outputs": [],
   "source": [
    "from naive_bayes import naive_bayes\n",
    "from wrapper_for_bayes import wrapper\n",
    "from tests import simple\n",
    "\n",
    "# Bayes is weak when there's to many features.\n",
    "training_for_bayes = training[500:510].T\n",
    "test_for_bayes = test[500:510].T\n",
    "\n",
    "\n",
    "classifier = naive_bayes()\n",
    "classifier.train(training_for_bayes, training_labels)\n",
    "\n",
    "# Wrap it so it remembers it features so it can be used in detector later\n",
    "\n",
    "bayes_features = all_features[500:510]\n",
    "bayes = wrapper(classifier, bayes_features)\n",
    "\n",
    "p = plt.subplots(1, 2)\n",
    "\n",
    "simple(bayes, IItest, test_labels, test_images, p)\n",
    "\n",
    "plt.show()\n"
   ]
  },
  {
   "cell_type": "markdown",
   "metadata": {},
   "source": [
    "## Example of a single feature boosted classifier\n",
    "\n",
    "A bunch of these are combined in the cascade"
   ]
  },
  {
   "cell_type": "code",
   "execution_count": null,
   "metadata": {},
   "outputs": [],
   "source": [
    "from ada_boost import boosted_classifier\n",
    "from tests import simple\n",
    "\n",
    "# Constructor takes num of features\n",
    "boost = boosted_classifier(10)\n",
    "boost.train(training, all_features, training_labels)\n",
    "p = plt.subplots(1, 2)\n",
    "\n",
    "simple(boost, IItest, test_labels, test_images, p)\n",
    "\n",
    "plt.show()\n",
    "\n"
   ]
  },
  {
   "cell_type": "markdown",
   "metadata": {},
   "source": [
    "## The one and only... Cascade"
   ]
  },
  {
   "cell_type": "code",
   "execution_count": null,
   "metadata": {},
   "outputs": [],
   "source": [
    "from cascade import cascade\n",
    "from tests import simple\n",
    "\n",
    "# Argument zero is False positive improvement, arg one is minimal success rate\n",
    "\n",
    "c = cascade(0.20, 0.97)\n",
    "print(\"Hi\")\n",
    "\n",
    "# Last arg is target False negative improvement\n",
    "c.train(IItraining, training_labels, 0.005)\n",
    "\n",
    "p = plt.subplots(1, 2)\n",
    "\n",
    "simple(c, IItest, test_labels, test_images, p)\n",
    "\n",
    "plt.show()\n"
   ]
  },
  {
   "cell_type": "markdown",
   "metadata": {},
   "source": [
    "## Comparison in Object detection using sliding window"
   ]
  },
  {
   "cell_type": "code",
   "execution_count": null,
   "metadata": {},
   "outputs": [],
   "source": [
    "from detector import detector\n",
    "from processing import load_image, grey_scale\n",
    "\n",
    "\n",
    "window_start_dim = (20, 20)\n",
    "window_stop_dim = (100, 100)\n",
    "size_increase = 2\n",
    "stride = 10\n",
    "\n",
    "\n",
    "bayes_detector = detector(window_start_dim, window_stop_dim, size_increase, stride, bayes)\n",
    "boost_detector = detector(window_start_dim, window_stop_dim, size_increase, stride, boost)\n",
    "cascade_detector = detector(window_start_dim, window_stop_dim, size_increase, stride, c)\n",
    "\n",
    "\n",
    "im_path = \"/Users/jonasvalfridsson/me/singularity/RRTOD/beatles3.jpg\"\n",
    "\n",
    "image = grey_scale(load_image(im_path))\n",
    "\n",
    "bsfig, bs = plt.subplots(1, 1)\n",
    "bofig, bo = plt.subplots(1, 1)\n",
    "cafig, ca = plt.subplots(1, 1)\n",
    "\n",
    "\n",
    "bayes_detector.detect(image, bs)\n",
    "boost_detector.detect(image, bo)\n",
    "cascade_detector.detect(image, ca)\n",
    "\n",
    "bs.imshow(image)\n",
    "bo.imshow(image)\n",
    "ca.imshow(image)\n",
    "\n",
    "plt.show()\n"
   ]
  },
  {
   "cell_type": "code",
   "execution_count": null,
   "metadata": {},
   "outputs": [],
   "source": []
  }
 ],
 "metadata": {
  "kernelspec": {
   "display_name": "Python 3",
   "language": "python",
   "name": "python3"
  },
  "language_info": {
   "codemirror_mode": {
    "name": "ipython",
    "version": 3
   },
   "file_extension": ".py",
   "mimetype": "text/x-python",
   "name": "python",
   "nbconvert_exporter": "python",
   "pygments_lexer": "ipython3",
   "version": "3.6.4"
  }
 },
 "nbformat": 4,
 "nbformat_minor": 2
}
