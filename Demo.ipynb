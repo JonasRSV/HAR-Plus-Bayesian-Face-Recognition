{
 "cells": [
  {
   "cell_type": "markdown",
   "metadata": {},
   "source": [
    "## Beautiful Demo\n",
    "\n",
    "Loads training data and shows an example training face"
   ]
  },
  {
   "cell_type": "code",
   "execution_count": null,
   "metadata": {},
   "outputs": [
    {
     "name": "stdout",
     "output_type": "stream",
     "text": [
      "reading csv: 4.3789589405059814\n"
     ]
    }
   ],
   "source": [
    "from matplotlib import pyplot as plt\n",
    "from read_data import training_validation\n",
    "\n",
    "from time import time\n",
    "from random import choice\n",
    "\n",
    "(training, train_labels), (test, test_labels) = training_validation()\n",
    "\n",
    "sample_image = choice(training)\n",
    "\n",
    "plt.imshow(sample_image)\n",
    "plt.show()\n",
    "\n"
   ]
  },
  {
   "cell_type": "markdown",
   "metadata": {},
   "source": [
    "## Testing Naive Bayes \n",
    "\n",
    "Naive bayes based on Normal distribution"
   ]
  },
  {
   "cell_type": "code",
   "execution_count": null,
   "metadata": {},
   "outputs": [],
   "source": [
    "from naive_bayes import naive_bayes\n",
    "from numpy import zeros, arange\n",
    "labels = zeros(len(training))\n",
    "classifier = naive_bayes()\n",
    "\n",
    "(n_of_imagest, widtht, heigtht) = training.shape\n",
    "into_linear_featurest = training.reshape(n_of_imagest, widtht * heigtht)\n",
    "\n",
    "classifier.train(into_linear_featurest, labels)\n",
    "\n",
    "(n_of_imagesv, widthv, heightv) = validation.shape\n",
    "into_linear_featuresv = validation.reshape(n_of_imagesv, widthv * heightv)\n",
    "\n",
    "print(classifier.predict(into_linear_featuresv[0]))"
   ]
  },
  {
   "cell_type": "markdown",
   "metadata": {},
   "source": [
    "## Example of feature selection used"
   ]
  },
  {
   "cell_type": "code",
   "execution_count": null,
   "metadata": {},
   "outputs": [],
   "source": [
    "from features import *\n",
    "from processing import IntegralImage\n",
    "\n",
    "fsize = FeatureSize(0.2, 0.2, 0.4, 0.4)\n",
    "ii = IntegralImage(sample_image)\n",
    "ii.process()\n",
    "\n",
    "f = Feature(fsize, A)\n",
    "fig, ax1 = plt.subplots(1, 1)\n",
    "f.print_feature(ii, ax1)\n",
    "print(f.calculate(ii))\n",
    "\n",
    "f = Feature(fsize, B1)\n",
    "fig, ax1 = plt.subplots(1, 1)\n",
    "f.print_feature(ii, ax1)\n",
    "print(f.calculate(ii))\n",
    "\n",
    "f = Feature(fsize, B2)\n",
    "fig, ax1 = plt.subplots(1, 1)\n",
    "f.print_feature(ii, ax1)\n",
    "print(f.calculate(ii))\n",
    "\n",
    "f = Feature(fsize, C1)\n",
    "fig, ax1 = plt.subplots(1, 1)\n",
    "f.print_feature(ii, ax1)\n",
    "print(f.calculate(ii))\n",
    "\n",
    "f = Feature(fsize, C2)\n",
    "fig, ax1 = plt.subplots(1, 1)\n",
    "f.print_feature(ii, ax1)\n",
    "print(f.calculate(ii))\n",
    "\n",
    "\n",
    "plt.show()"
   ]
  },
  {
   "cell_type": "markdown",
   "metadata": {},
   "source": [
    "## Example of Feature Generation"
   ]
  },
  {
   "cell_type": "code",
   "execution_count": null,
   "metadata": {},
   "outputs": [],
   "source": [
    "from features import *\n",
    "count = 0\n",
    "for sz in generate_all_sizes():\n",
    "    count += 1\n",
    "    print(sz)\n",
    "print(count)"
   ]
  },
  {
   "cell_type": "code",
   "execution_count": null,
   "metadata": {},
   "outputs": [],
   "source": []
  }
 ],
 "metadata": {
  "kernelspec": {
   "display_name": "Python 3",
   "language": "python",
   "name": "python3"
  },
  "language_info": {
   "codemirror_mode": {
    "name": "ipython",
    "version": 3
   },
   "file_extension": ".py",
   "mimetype": "text/x-python",
   "name": "python",
   "nbconvert_exporter": "python",
   "pygments_lexer": "ipython3",
   "version": "3.6.4"
  }
 },
 "nbformat": 4,
 "nbformat_minor": 2
}
